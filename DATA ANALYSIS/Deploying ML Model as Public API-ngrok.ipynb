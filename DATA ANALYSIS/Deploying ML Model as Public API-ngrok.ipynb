{
 "cells": [
  {
   "cell_type": "code",
   "execution_count": 1,
   "id": "ed0b8b43",
   "metadata": {},
   "outputs": [
    {
     "name": "stdout",
     "output_type": "stream",
     "text": [
      "Requirement already satisfied: fastapi in c:\\users\\amank\\anaconda3\\lib\\site-packages (0.89.1)\n",
      "Requirement already satisfied: starlette==0.22.0 in c:\\users\\amank\\anaconda3\\lib\\site-packages (from fastapi) (0.22.0)\n",
      "Requirement already satisfied: pydantic!=1.7,!=1.7.1,!=1.7.2,!=1.7.3,!=1.8,!=1.8.1,<2.0.0,>=1.6.2 in c:\\users\\amank\\anaconda3\\lib\\site-packages (from fastapi) (1.10.4)\n",
      "Requirement already satisfied: typing-extensions>=3.10.0 in c:\\users\\amank\\anaconda3\\lib\\site-packages (from starlette==0.22.0->fastapi) (4.4.0)\n",
      "Requirement already satisfied: anyio<5,>=3.4.0 in c:\\users\\amank\\anaconda3\\lib\\site-packages (from starlette==0.22.0->fastapi) (3.6.2)\n",
      "Requirement already satisfied: idna>=2.8 in c:\\users\\amank\\anaconda3\\lib\\site-packages (from anyio<5,>=3.4.0->starlette==0.22.0->fastapi) (3.2)\n",
      "Requirement already satisfied: sniffio>=1.1 in c:\\users\\amank\\anaconda3\\lib\\site-packages (from anyio<5,>=3.4.0->starlette==0.22.0->fastapi) (1.2.0)\n",
      "Requirement already satisfied: uvicorn in c:\\users\\amank\\anaconda3\\lib\\site-packages (0.20.0)\n",
      "Requirement already satisfied: h11>=0.8 in c:\\users\\amank\\anaconda3\\lib\\site-packages (from uvicorn) (0.14.0)\n",
      "Requirement already satisfied: click>=7.0 in c:\\users\\amank\\anaconda3\\lib\\site-packages (from uvicorn) (8.0.3)\n",
      "Requirement already satisfied: colorama in c:\\users\\amank\\anaconda3\\lib\\site-packages (from click>=7.0->uvicorn) (0.4.4)\n",
      "Collecting pickle5\n",
      "  Using cached pickle5-0.0.11.tar.gz (132 kB)\n",
      "  Preparing metadata (setup.py): started\n",
      "  Preparing metadata (setup.py): finished with status 'done'\n"
     ]
    },
    {
     "name": "stderr",
     "output_type": "stream",
     "text": [
      "  error: subprocess-exited-with-error\n",
      "  \n",
      "  python setup.py bdist_wheel did not run successfully.\n",
      "  exit code: 1\n",
      "  \n",
      "  [17 lines of output]\n",
      "  running bdist_wheel\n",
      "  running build\n",
      "  running build_py\n",
      "  creating build"
     ]
    },
    {
     "name": "stdout",
     "output_type": "stream",
     "text": [
      "Building wheels for collected packages: pickle5\n",
      "  Building wheel for pickle5 (setup.py): started\n",
      "  Building wheel for pickle5 (setup.py): finished with status 'error'\n",
      "  Running setup.py clean for pickle5\n",
      "Failed to build pickle5\n",
      "Installing collected packages: pickle5\n",
      "  Running setup.py install for pickle5: started\n",
      "  Running setup.py install for pickle5: finished with status 'error'\n"
     ]
    },
    {
     "name": "stderr",
     "output_type": "stream",
     "text": [
      "\n",
      "  creating build\\lib.win-amd64-3.9\n",
      "  creating build\\lib.win-amd64-3.9\\pickle5\n",
      "  copying pickle5\\pickle.py -> build\\lib.win-amd64-3.9\\pickle5\n",
      "  copying pickle5\\pickletools.py -> build\\lib.win-amd64-3.9\\pickle5\n",
      "  copying pickle5\\__init__.py -> build\\lib.win-amd64-3.9\\pickle5\n",
      "  creating build\\lib.win-amd64-3.9\\pickle5\\test\n",
      "  copying pickle5\\test\\pickletester.py -> build\\lib.win-amd64-3.9\\pickle5\\test\n",
      "  copying pickle5\\test\\test_pickle.py -> build\\lib.win-amd64-3.9\\pickle5\\test\n",
      "  copying pickle5\\test\\test_picklebuffer.py -> build\\lib.win-amd64-3.9\\pickle5\\test\n",
      "  copying pickle5\\test\\__init__.py -> build\\lib.win-amd64-3.9\\pickle5\\test\n",
      "  running build_ext\n",
      "  building 'pickle5._pickle' extension\n",
      "  error: Microsoft Visual C++ 14.0 or greater is required. Get it with \"Microsoft C++ Build Tools\": https://visualstudio.microsoft.com/visual-cpp-build-tools/\n",
      "  [end of output]\n",
      "  \n",
      "  note: This error originates from a subprocess, and is likely not a problem with pip.\n",
      "  ERROR: Failed building wheel for pickle5\n",
      "  error: subprocess-exited-with-error\n",
      "  \n",
      "  Running setup.py install for pickle5 did not run successfully.\n",
      "  exit code: 1\n",
      "  \n",
      "  [17 lines of output]\n",
      "  running install\n",
      "  running build\n",
      "  running build_py\n",
      "  creating build\n",
      "  creating build\\lib.win-amd64-3.9\n",
      "  creating build\\lib.win-amd64-3.9\\pickle5\n",
      "  copying pickle5\\pickle.py -> build\\lib.win-amd64-3.9\\pickle5\n",
      "  copying pickle5\\pickletools.py -> build\\lib.win-amd64-3.9\\pickle5\n",
      "  copying pickle5\\__init__.py -> build\\lib.win-amd64-3.9\\pickle5\n",
      "  creating build\\lib.win-amd64-3.9\\pickle5\\test\n",
      "  copying pickle5\\test\\pickletester.py -> build\\lib.win-amd64-3.9\\pickle5\\test\n",
      "  copying pickle5\\test\\test_pickle.py -> build\\lib.win-amd64-3.9\\pickle5\\test\n",
      "  copying pickle5\\test\\test_picklebuffer.py -> build\\lib.win-amd64-3.9\\pickle5\\test\n",
      "  copying pickle5\\test\\__init__.py -> build\\lib.win-amd64-3.9\\pickle5\\test\n",
      "  running build_ext\n",
      "  building 'pickle5._pickle' extension\n",
      "  error: Microsoft Visual C++ 14.0 or greater is required. Get it with \"Microsoft C++ Build Tools\": https://visualstudio.microsoft.com/visual-cpp-build-tools/\n",
      "  [end of output]\n",
      "  \n",
      "  note: This error originates from a subprocess, and is likely not a problem with pip.\n",
      "error: legacy-install-failure\n",
      "\n",
      "Encountered error while trying to install package.\n",
      "\n",
      "pickle5\n",
      "\n",
      "note: This is an issue with the package mentioned above, not pip.\n",
      "hint: See above for output from the failure.\n"
     ]
    },
    {
     "name": "stdout",
     "output_type": "stream",
     "text": [
      "Requirement already satisfied: pydantic in c:\\users\\amank\\anaconda3\\lib\\site-packages (1.10.4)\n",
      "Requirement already satisfied: typing-extensions>=4.2.0 in c:\\users\\amank\\anaconda3\\lib\\site-packages (from pydantic) (4.4.0)\n",
      "Requirement already satisfied: scikit-learn in c:\\users\\amank\\anaconda3\\lib\\site-packages (0.24.2)\n",
      "Requirement already satisfied: threadpoolctl>=2.0.0 in c:\\users\\amank\\anaconda3\\lib\\site-packages (from scikit-learn) (2.2.0)\n",
      "Requirement already satisfied: numpy>=1.13.3 in c:\\users\\amank\\anaconda3\\lib\\site-packages (from scikit-learn) (1.20.3)\n",
      "Requirement already satisfied: joblib>=0.11 in c:\\users\\amank\\anaconda3\\lib\\site-packages (from scikit-learn) (1.1.0)\n",
      "Requirement already satisfied: scipy>=0.19.1 in c:\\users\\amank\\anaconda3\\lib\\site-packages (from scikit-learn) (1.7.1)\n",
      "Requirement already satisfied: requests in c:\\users\\amank\\anaconda3\\lib\\site-packages (2.26.0)\n",
      "Requirement already satisfied: idna<4,>=2.5 in c:\\users\\amank\\anaconda3\\lib\\site-packages (from requests) (3.2)\n",
      "Requirement already satisfied: certifi>=2017.4.17 in c:\\users\\amank\\anaconda3\\lib\\site-packages (from requests) (2021.10.8)\n",
      "Requirement already satisfied: charset-normalizer~=2.0.0 in c:\\users\\amank\\anaconda3\\lib\\site-packages (from requests) (2.0.4)\n",
      "Requirement already satisfied: urllib3<1.27,>=1.21.1 in c:\\users\\amank\\anaconda3\\lib\\site-packages (from requests) (1.26.7)\n",
      "Requirement already satisfied: pypi-json in c:\\users\\amank\\anaconda3\\lib\\site-packages (0.3.0)\n",
      "Requirement already satisfied: packaging>=21.0 in c:\\users\\amank\\anaconda3\\lib\\site-packages (from pypi-json) (21.0)\n",
      "Requirement already satisfied: requests>=2.26.0 in c:\\users\\amank\\anaconda3\\lib\\site-packages (from pypi-json) (2.26.0)\n",
      "Requirement already satisfied: apeye>=1.1.0 in c:\\users\\amank\\anaconda3\\lib\\site-packages (from pypi-json) (1.3.0)\n",
      "Requirement already satisfied: platformdirs>=2.3.0 in c:\\users\\amank\\anaconda3\\lib\\site-packages (from apeye>=1.1.0->pypi-json) (2.6.2)\n",
      "Requirement already satisfied: domdf-python-tools>=2.6.0 in c:\\users\\amank\\anaconda3\\lib\\site-packages (from apeye>=1.1.0->pypi-json) (3.6.0)\n",
      "Requirement already satisfied: apeye-core>=1.0.0b2 in c:\\users\\amank\\anaconda3\\lib\\site-packages (from apeye>=1.1.0->pypi-json) (1.1.0)\n",
      "Requirement already satisfied: pyparsing>=2.0.2 in c:\\users\\amank\\anaconda3\\lib\\site-packages (from packaging>=21.0->pypi-json) (3.0.4)\n",
      "Requirement already satisfied: urllib3<1.27,>=1.21.1 in c:\\users\\amank\\anaconda3\\lib\\site-packages (from requests>=2.26.0->pypi-json) (1.26.7)\n",
      "Requirement already satisfied: charset-normalizer~=2.0.0 in c:\\users\\amank\\anaconda3\\lib\\site-packages (from requests>=2.26.0->pypi-json) (2.0.4)\n",
      "Requirement already satisfied: idna<4,>=2.5 in c:\\users\\amank\\anaconda3\\lib\\site-packages (from requests>=2.26.0->pypi-json) (3.2)\n",
      "Requirement already satisfied: certifi>=2017.4.17 in c:\\users\\amank\\anaconda3\\lib\\site-packages (from requests>=2.26.0->pypi-json) (2021.10.8)\n",
      "Requirement already satisfied: natsort>=7.0.1 in c:\\users\\amank\\anaconda3\\lib\\site-packages (from domdf-python-tools>=2.6.0->apeye>=1.1.0->pypi-json) (8.2.0)\n",
      "Requirement already satisfied: typing-extensions>=3.7.4.1 in c:\\users\\amank\\anaconda3\\lib\\site-packages (from domdf-python-tools>=2.6.0->apeye>=1.1.0->pypi-json) (4.4.0)\n",
      "Requirement already satisfied: pyngrok in c:\\users\\amank\\anaconda3\\lib\\site-packages (5.2.1)\n",
      "Requirement already satisfied: PyYAML in c:\\users\\amank\\anaconda3\\lib\\site-packages (from pyngrok) (6.0)\n",
      "Requirement already satisfied: nest-asyncio in c:\\users\\amank\\anaconda3\\lib\\site-packages (1.5.1)\n"
     ]
    }
   ],
   "source": [
    "# !pip install fastapi\n",
    "# !pip install uvicorn\n",
    "# !pip install pickle5\n",
    "# !pip install pydantic\n",
    "# !pip install scikit-learn\n",
    "# !pip install requests\n",
    "# !pip install pypi-json\n",
    "# !pip install pyngrok\n",
    "# !pip install nest-asyncio"
   ]
  },
  {
   "cell_type": "code",
   "execution_count": 2,
   "id": "d8ecc503",
   "metadata": {},
   "outputs": [],
   "source": [
    "from fastapi import FastAPI\n",
    "from pydantic import BaseModel\n",
    "import pickle\n",
    "import json\n",
    "import uvicorn\n",
    "from pyngrok import ngrok\n",
    "from fastapi.middleware.cors import CORSMiddleware\n",
    "import nest_asyncio"
   ]
  },
  {
   "cell_type": "code",
   "execution_count": 3,
   "id": "a3dd91a1",
   "metadata": {},
   "outputs": [],
   "source": [
    "app = FastAPI()"
   ]
  },
  {
   "cell_type": "code",
   "execution_count": 4,
   "id": "c18c92cb",
   "metadata": {},
   "outputs": [],
   "source": [
    "origins = [\"*\"]\n",
    "\n",
    "app.add_middleware(\n",
    "    CORSMiddleware,\n",
    "    allow_origins=origins,\n",
    "    allow_credentials=True,\n",
    "    allow_methods=[\"*\"],\n",
    "    allow_headers=[\"*\"],\n",
    ")"
   ]
  },
  {
   "cell_type": "code",
   "execution_count": 5,
   "id": "a6694048",
   "metadata": {},
   "outputs": [],
   "source": [
    "class model_input(BaseModel):\n",
    "    \n",
    "    Pregnancies : int\n",
    "    Glucose : int\n",
    "    BloodPressure : int\n",
    "    SkinThickness : int\n",
    "    Insulin : int\n",
    "    BMI : float\n",
    "    DiabetesPedigreeFunction : float\n",
    "    Age : int"
   ]
  },
  {
   "cell_type": "code",
   "execution_count": 6,
   "id": "548f7b69",
   "metadata": {},
   "outputs": [],
   "source": [
    "# loading the saved model\n",
    "diabetes_model = pickle.load(open('trained_model_api.sav', 'rb'))"
   ]
  },
  {
   "cell_type": "code",
   "execution_count": 7,
   "id": "99472bf6",
   "metadata": {},
   "outputs": [],
   "source": [
    "@app.post('/diabetes_prediction')\n",
    "def diabetes_pred(input_parameters:model_input):\n",
    "    input_data = input_parameters.json()\n",
    "    input_dictionary = json.loads(input_data)\n",
    "\n",
    "    preg = input_dictionary['Pregnancies']\n",
    "    glu = input_dictionary['Glucose']\n",
    "    bp = input_dictionary['BloodPressure']\n",
    "    skin = input_dictionary['SkinThickness']\n",
    "    insulin = input_dictionary['Insulin']\n",
    "    bmi = input_dictionary['BMI']\n",
    "    dpf = input_dictionary['DiabetesPedigreeFunction']\n",
    "    age = input_dictionary['Age']\n",
    "\n",
    "    input_list = [preg,glu,bp,skin,insulin,bmi,dpf,age]\n",
    "\n",
    "    prediction = diabetes_model.predict([input_list])\n",
    "\n",
    "    if prediction[0] == 0:\n",
    "        return 'THE PERSON IS NOT DIABETIC !!'\n",
    "    else:\n",
    "        return 'THE PERSON IS DIABETIC !!'"
   ]
  },
  {
   "cell_type": "code",
   "execution_count": null,
   "id": "55c9c25e",
   "metadata": {},
   "outputs": [
    {
     "name": "stderr",
     "output_type": "stream",
     "text": [
      "INFO:     Started server process [10144]\n",
      "INFO:     Waiting for application startup.\n",
      "INFO:     Application startup complete.\n",
      "INFO:     Uvicorn running on http://127.0.0.1:8000 (Press CTRL+C to quit)\n"
     ]
    },
    {
     "name": "stdout",
     "output_type": "stream",
     "text": [
      "Public URL: http://d11e-2401-4900-313e-973f-adef-5394-71ca-ba6b.ngrok.io\n",
      "INFO:     2401:4900:313e:973f:adef:5394:71ca:ba6b:0 - \"POST /diabetes_prediction HTTP/1.1\" 200 OK\n",
      "INFO:     2401:4900:313e:973f:adef:5394:71ca:ba6b:0 - \"POST /diabetes_prediction HTTP/1.1\" 200 OK\n"
     ]
    }
   ],
   "source": [
    "ngrok_tunnel = ngrok.connect(8000)\n",
    "print('Public URL:', ngrok_tunnel.public_url)\n",
    "nest_asyncio.apply()\n",
    "uvicorn.run(app, port=8000)"
   ]
  },
  {
   "cell_type": "code",
   "execution_count": null,
   "id": "399d8a9c",
   "metadata": {},
   "outputs": [],
   "source": []
  }
 ],
 "metadata": {
  "kernelspec": {
   "display_name": "Python 3 (ipykernel)",
   "language": "python",
   "name": "python3"
  },
  "language_info": {
   "codemirror_mode": {
    "name": "ipython",
    "version": 3
   },
   "file_extension": ".py",
   "mimetype": "text/x-python",
   "name": "python",
   "nbconvert_exporter": "python",
   "pygments_lexer": "ipython3",
   "version": "3.9.7"
  }
 },
 "nbformat": 4,
 "nbformat_minor": 5
}
