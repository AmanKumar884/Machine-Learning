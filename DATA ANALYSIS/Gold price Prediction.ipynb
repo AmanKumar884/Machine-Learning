{
 "cells": [
  {
   "cell_type": "code",
   "execution_count": 1,
   "id": "8b14a6d5",
   "metadata": {},
   "outputs": [],
   "source": [
    "import numpy as np\n",
    "import pandas as pd\n",
    "import seaborn as sns\n",
    "import matplotlib.pyplot as plt\n",
    "from sklearn.model_selection import train_test_split\n",
    "from sklearn.ensemble import RandomForestRegressor\n",
    "from sklearn import metrics\n",
    "from sklearn.metrics import accuracy_score"
   ]
  },
  {
   "cell_type": "code",
   "execution_count": 2,
   "id": "d0541bd9",
   "metadata": {},
   "outputs": [
    {
     "data": {
      "text/html": [
       "<div>\n",
       "<style scoped>\n",
       "    .dataframe tbody tr th:only-of-type {\n",
       "        vertical-align: middle;\n",
       "    }\n",
       "\n",
       "    .dataframe tbody tr th {\n",
       "        vertical-align: top;\n",
       "    }\n",
       "\n",
       "    .dataframe thead th {\n",
       "        text-align: right;\n",
       "    }\n",
       "</style>\n",
       "<table border=\"1\" class=\"dataframe\">\n",
       "  <thead>\n",
       "    <tr style=\"text-align: right;\">\n",
       "      <th></th>\n",
       "      <th>Date</th>\n",
       "      <th>SPX</th>\n",
       "      <th>GLD</th>\n",
       "      <th>USO</th>\n",
       "      <th>SLV</th>\n",
       "      <th>EUR/USD</th>\n",
       "    </tr>\n",
       "  </thead>\n",
       "  <tbody>\n",
       "    <tr>\n",
       "      <th>0</th>\n",
       "      <td>1/2/2008</td>\n",
       "      <td>1447.160034</td>\n",
       "      <td>84.860001</td>\n",
       "      <td>78.470001</td>\n",
       "      <td>15.1800</td>\n",
       "      <td>1.471692</td>\n",
       "    </tr>\n",
       "    <tr>\n",
       "      <th>1</th>\n",
       "      <td>1/3/2008</td>\n",
       "      <td>1447.160034</td>\n",
       "      <td>85.570000</td>\n",
       "      <td>78.370003</td>\n",
       "      <td>15.2850</td>\n",
       "      <td>1.474491</td>\n",
       "    </tr>\n",
       "    <tr>\n",
       "      <th>2</th>\n",
       "      <td>1/4/2008</td>\n",
       "      <td>1411.630005</td>\n",
       "      <td>85.129997</td>\n",
       "      <td>77.309998</td>\n",
       "      <td>15.1670</td>\n",
       "      <td>1.475492</td>\n",
       "    </tr>\n",
       "    <tr>\n",
       "      <th>3</th>\n",
       "      <td>1/7/2008</td>\n",
       "      <td>1416.180054</td>\n",
       "      <td>84.769997</td>\n",
       "      <td>75.500000</td>\n",
       "      <td>15.0530</td>\n",
       "      <td>1.468299</td>\n",
       "    </tr>\n",
       "    <tr>\n",
       "      <th>4</th>\n",
       "      <td>1/8/2008</td>\n",
       "      <td>1390.189941</td>\n",
       "      <td>86.779999</td>\n",
       "      <td>76.059998</td>\n",
       "      <td>15.5900</td>\n",
       "      <td>1.557099</td>\n",
       "    </tr>\n",
       "    <tr>\n",
       "      <th>...</th>\n",
       "      <td>...</td>\n",
       "      <td>...</td>\n",
       "      <td>...</td>\n",
       "      <td>...</td>\n",
       "      <td>...</td>\n",
       "      <td>...</td>\n",
       "    </tr>\n",
       "    <tr>\n",
       "      <th>2285</th>\n",
       "      <td>5/8/2018</td>\n",
       "      <td>2671.919922</td>\n",
       "      <td>124.589996</td>\n",
       "      <td>14.060000</td>\n",
       "      <td>15.5100</td>\n",
       "      <td>1.186789</td>\n",
       "    </tr>\n",
       "    <tr>\n",
       "      <th>2286</th>\n",
       "      <td>5/9/2018</td>\n",
       "      <td>2697.790039</td>\n",
       "      <td>124.330002</td>\n",
       "      <td>14.370000</td>\n",
       "      <td>15.5300</td>\n",
       "      <td>1.184722</td>\n",
       "    </tr>\n",
       "    <tr>\n",
       "      <th>2287</th>\n",
       "      <td>5/10/2018</td>\n",
       "      <td>2723.070068</td>\n",
       "      <td>125.180000</td>\n",
       "      <td>14.410000</td>\n",
       "      <td>15.7400</td>\n",
       "      <td>1.191753</td>\n",
       "    </tr>\n",
       "    <tr>\n",
       "      <th>2288</th>\n",
       "      <td>5/14/2018</td>\n",
       "      <td>2730.129883</td>\n",
       "      <td>124.489998</td>\n",
       "      <td>14.380000</td>\n",
       "      <td>15.5600</td>\n",
       "      <td>1.193118</td>\n",
       "    </tr>\n",
       "    <tr>\n",
       "      <th>2289</th>\n",
       "      <td>5/16/2018</td>\n",
       "      <td>2725.780029</td>\n",
       "      <td>122.543800</td>\n",
       "      <td>14.405800</td>\n",
       "      <td>15.4542</td>\n",
       "      <td>1.182033</td>\n",
       "    </tr>\n",
       "  </tbody>\n",
       "</table>\n",
       "<p>2290 rows × 6 columns</p>\n",
       "</div>"
      ],
      "text/plain": [
       "           Date          SPX         GLD        USO      SLV   EUR/USD\n",
       "0      1/2/2008  1447.160034   84.860001  78.470001  15.1800  1.471692\n",
       "1      1/3/2008  1447.160034   85.570000  78.370003  15.2850  1.474491\n",
       "2      1/4/2008  1411.630005   85.129997  77.309998  15.1670  1.475492\n",
       "3      1/7/2008  1416.180054   84.769997  75.500000  15.0530  1.468299\n",
       "4      1/8/2008  1390.189941   86.779999  76.059998  15.5900  1.557099\n",
       "...         ...          ...         ...        ...      ...       ...\n",
       "2285   5/8/2018  2671.919922  124.589996  14.060000  15.5100  1.186789\n",
       "2286   5/9/2018  2697.790039  124.330002  14.370000  15.5300  1.184722\n",
       "2287  5/10/2018  2723.070068  125.180000  14.410000  15.7400  1.191753\n",
       "2288  5/14/2018  2730.129883  124.489998  14.380000  15.5600  1.193118\n",
       "2289  5/16/2018  2725.780029  122.543800  14.405800  15.4542  1.182033\n",
       "\n",
       "[2290 rows x 6 columns]"
      ]
     },
     "execution_count": 2,
     "metadata": {},
     "output_type": "execute_result"
    }
   ],
   "source": [
    "df = pd.read_csv(\"gld_price_data.csv\")\n",
    "df"
   ]
  },
  {
   "cell_type": "code",
   "execution_count": 3,
   "id": "37dd7e74",
   "metadata": {},
   "outputs": [
    {
     "data": {
      "text/plain": [
       "(2290, 6)"
      ]
     },
     "execution_count": 3,
     "metadata": {},
     "output_type": "execute_result"
    }
   ],
   "source": [
    "df.shape"
   ]
  },
  {
   "cell_type": "code",
   "execution_count": 4,
   "id": "38621d52",
   "metadata": {},
   "outputs": [
    {
     "data": {
      "text/html": [
       "<div>\n",
       "<style scoped>\n",
       "    .dataframe tbody tr th:only-of-type {\n",
       "        vertical-align: middle;\n",
       "    }\n",
       "\n",
       "    .dataframe tbody tr th {\n",
       "        vertical-align: top;\n",
       "    }\n",
       "\n",
       "    .dataframe thead th {\n",
       "        text-align: right;\n",
       "    }\n",
       "</style>\n",
       "<table border=\"1\" class=\"dataframe\">\n",
       "  <thead>\n",
       "    <tr style=\"text-align: right;\">\n",
       "      <th></th>\n",
       "      <th>SPX</th>\n",
       "      <th>GLD</th>\n",
       "      <th>USO</th>\n",
       "      <th>SLV</th>\n",
       "      <th>EUR/USD</th>\n",
       "    </tr>\n",
       "  </thead>\n",
       "  <tbody>\n",
       "    <tr>\n",
       "      <th>count</th>\n",
       "      <td>2290.000000</td>\n",
       "      <td>2290.000000</td>\n",
       "      <td>2290.000000</td>\n",
       "      <td>2290.000000</td>\n",
       "      <td>2290.000000</td>\n",
       "    </tr>\n",
       "    <tr>\n",
       "      <th>mean</th>\n",
       "      <td>1654.315776</td>\n",
       "      <td>122.732875</td>\n",
       "      <td>31.842221</td>\n",
       "      <td>20.084997</td>\n",
       "      <td>1.283653</td>\n",
       "    </tr>\n",
       "    <tr>\n",
       "      <th>std</th>\n",
       "      <td>519.111540</td>\n",
       "      <td>23.283346</td>\n",
       "      <td>19.523517</td>\n",
       "      <td>7.092566</td>\n",
       "      <td>0.131547</td>\n",
       "    </tr>\n",
       "    <tr>\n",
       "      <th>min</th>\n",
       "      <td>676.530029</td>\n",
       "      <td>70.000000</td>\n",
       "      <td>7.960000</td>\n",
       "      <td>8.850000</td>\n",
       "      <td>1.039047</td>\n",
       "    </tr>\n",
       "    <tr>\n",
       "      <th>25%</th>\n",
       "      <td>1239.874969</td>\n",
       "      <td>109.725000</td>\n",
       "      <td>14.380000</td>\n",
       "      <td>15.570000</td>\n",
       "      <td>1.171313</td>\n",
       "    </tr>\n",
       "    <tr>\n",
       "      <th>50%</th>\n",
       "      <td>1551.434998</td>\n",
       "      <td>120.580002</td>\n",
       "      <td>33.869999</td>\n",
       "      <td>17.268500</td>\n",
       "      <td>1.303297</td>\n",
       "    </tr>\n",
       "    <tr>\n",
       "      <th>75%</th>\n",
       "      <td>2073.010070</td>\n",
       "      <td>132.840004</td>\n",
       "      <td>37.827501</td>\n",
       "      <td>22.882500</td>\n",
       "      <td>1.369971</td>\n",
       "    </tr>\n",
       "    <tr>\n",
       "      <th>max</th>\n",
       "      <td>2872.870117</td>\n",
       "      <td>184.589996</td>\n",
       "      <td>117.480003</td>\n",
       "      <td>47.259998</td>\n",
       "      <td>1.598798</td>\n",
       "    </tr>\n",
       "  </tbody>\n",
       "</table>\n",
       "</div>"
      ],
      "text/plain": [
       "               SPX          GLD          USO          SLV      EUR/USD\n",
       "count  2290.000000  2290.000000  2290.000000  2290.000000  2290.000000\n",
       "mean   1654.315776   122.732875    31.842221    20.084997     1.283653\n",
       "std     519.111540    23.283346    19.523517     7.092566     0.131547\n",
       "min     676.530029    70.000000     7.960000     8.850000     1.039047\n",
       "25%    1239.874969   109.725000    14.380000    15.570000     1.171313\n",
       "50%    1551.434998   120.580002    33.869999    17.268500     1.303297\n",
       "75%    2073.010070   132.840004    37.827501    22.882500     1.369971\n",
       "max    2872.870117   184.589996   117.480003    47.259998     1.598798"
      ]
     },
     "execution_count": 4,
     "metadata": {},
     "output_type": "execute_result"
    }
   ],
   "source": [
    "df.describe()"
   ]
  },
  {
   "cell_type": "code",
   "execution_count": 5,
   "id": "f12e3a33",
   "metadata": {},
   "outputs": [
    {
     "data": {
      "text/plain": [
       "Date       0\n",
       "SPX        0\n",
       "GLD        0\n",
       "USO        0\n",
       "SLV        0\n",
       "EUR/USD    0\n",
       "dtype: int64"
      ]
     },
     "execution_count": 5,
     "metadata": {},
     "output_type": "execute_result"
    }
   ],
   "source": [
    "df.isnull().sum()"
   ]
  },
  {
   "cell_type": "code",
   "execution_count": 6,
   "id": "c1072eb7",
   "metadata": {},
   "outputs": [],
   "source": [
    "# Correlations positive or negative\n",
    "correlation = df.corr()"
   ]
  },
  {
   "cell_type": "code",
   "execution_count": 7,
   "id": "43e53c55",
   "metadata": {},
   "outputs": [
    {
     "data": {
      "text/plain": [
       "<AxesSubplot:>"
      ]
     },
     "execution_count": 7,
     "metadata": {},
     "output_type": "execute_result"
    },
    {
     "data": {
      "image/png": "[encoded data removed]",
      "text/plain": [
       "<Figure size 720x720 with 2 Axes>"
      ]
     },
     "metadata": {
      "needs_background": "light"
     },
     "output_type": "display_data"
    }
   ],
   "source": [
    "# Constructing a heatmap to understand the correlation\n",
    "plt.figure(figsize=(10,10))\n",
    "sns.heatmap(correlation,cbar=True,square=True,fmt='.2f',annot=True,annot_kws={'size':8},cmap='Blues')"
   ]
  },
  {
   "cell_type": "code",
   "execution_count": 8,
   "id": "cbc9a1d8",
   "metadata": {},
   "outputs": [
    {
     "name": "stdout",
     "output_type": "stream",
     "text": [
      "SPX        0.049345\n",
      "GLD        1.000000\n",
      "USO       -0.186360\n",
      "SLV        0.866632\n",
      "EUR/USD   -0.024375\n",
      "Name: GLD, dtype: float64\n"
     ]
    }
   ],
   "source": [
    "# Correlation values of GLD\n",
    "print(correlation['GLD'])"
   ]
  },
  {
   "cell_type": "code",
   "execution_count": 9,
   "id": "7b9a3b3b",
   "metadata": {},
   "outputs": [
    {
     "name": "stderr",
     "output_type": "stream",
     "text": [
      "C:\\Users\\amank\\anaconda3\\lib\\site-packages\\seaborn\\distributions.py:2619: FutureWarning: `distplot` is a deprecated function and will be removed in a future version. Please adapt your code to use either `displot` (a figure-level function with similar flexibility) or `histplot` (an axes-level function for histograms).\n",
      "  warnings.warn(msg, FutureWarning)\n"
     ]
    },
    {
     "data": {
      "text/plain": [
       "<AxesSubplot:xlabel='GLD', ylabel='Density'>"
      ]
     },
     "execution_count": 9,
     "metadata": {},
     "output_type": "execute_result"
    },
    {
     "data": {
      "image/png": "[encoded data removed]",
      "text/plain": [
       "<Figure size 432x288 with 1 Axes>"
      ]
     },
     "metadata": {
      "needs_background": "light"
     },
     "output_type": "display_data"
    }
   ],
   "source": [
    "# check the distribution of the GLD Price\n",
    "sns.distplot(df['GLD'],color='green')"
   ]
  },
  {
   "cell_type": "code",
   "execution_count": 10,
   "id": "d6a1d35a",
   "metadata": {},
   "outputs": [],
   "source": [
    "# Splittind the X and Y\n",
    "X = df.drop(['Date','GLD'],axis=1)\n",
    "Y = df['GLD']"
   ]
  },
  {
   "cell_type": "code",
   "execution_count": 11,
   "id": "15b3adc9",
   "metadata": {},
   "outputs": [
    {
     "name": "stdout",
     "output_type": "stream",
     "text": [
      "              SPX        USO      SLV   EUR/USD\n",
      "0     1447.160034  78.470001  15.1800  1.471692\n",
      "1     1447.160034  78.370003  15.2850  1.474491\n",
      "2     1411.630005  77.309998  15.1670  1.475492\n",
      "3     1416.180054  75.500000  15.0530  1.468299\n",
      "4     1390.189941  76.059998  15.5900  1.557099\n",
      "...           ...        ...      ...       ...\n",
      "2285  2671.919922  14.060000  15.5100  1.186789\n",
      "2286  2697.790039  14.370000  15.5300  1.184722\n",
      "2287  2723.070068  14.410000  15.7400  1.191753\n",
      "2288  2730.129883  14.380000  15.5600  1.193118\n",
      "2289  2725.780029  14.405800  15.4542  1.182033\n",
      "\n",
      "[2290 rows x 4 columns]\n",
      "0        84.860001\n",
      "1        85.570000\n",
      "2        85.129997\n",
      "3        84.769997\n",
      "4        86.779999\n",
      "           ...    \n",
      "2285    124.589996\n",
      "2286    124.330002\n",
      "2287    125.180000\n",
      "2288    124.489998\n",
      "2289    122.543800\n",
      "Name: GLD, Length: 2290, dtype: float64\n"
     ]
    }
   ],
   "source": [
    "print(X)\n",
    "print(Y)"
   ]
  },
  {
   "cell_type": "code",
   "execution_count": 12,
   "id": "276ef2ec",
   "metadata": {},
   "outputs": [],
   "source": [
    "# Splitting into train and test\n",
    "X_train, X_test, Y_train, Y_test = train_test_split(X, Y, test_size = 0.2, random_state=1)"
   ]
  },
  {
   "cell_type": "code",
   "execution_count": 13,
   "id": "07f389e6",
   "metadata": {},
   "outputs": [
    {
     "name": "stdout",
     "output_type": "stream",
     "text": [
      "(2290, 4) (1832, 4) (458, 4)\n"
     ]
    }
   ],
   "source": [
    "print(X.shape,X_train.shape,X_test.shape)"
   ]
  },
  {
   "cell_type": "code",
   "execution_count": 14,
   "id": "72c8f3ce",
   "metadata": {},
   "outputs": [],
   "source": [
    "regressor = RandomForestRegressor(n_estimators=100)"
   ]
  },
  {
   "cell_type": "code",
   "execution_count": 15,
   "id": "743e077f",
   "metadata": {},
   "outputs": [
    {
     "data": {
      "text/plain": [
       "RandomForestRegressor()"
      ]
     },
     "execution_count": 15,
     "metadata": {},
     "output_type": "execute_result"
    }
   ],
   "source": [
    "# training the model\n",
    "regressor.fit(X_train,Y_train)"
   ]
  },
  {
   "cell_type": "code",
   "execution_count": 16,
   "id": "601a0d2e",
   "metadata": {},
   "outputs": [],
   "source": [
    "# prediction on Test Data\n",
    "test_data_prediction = regressor.predict(X_test)"
   ]
  },
  {
   "cell_type": "code",
   "execution_count": 32,
   "id": "d07deea0",
   "metadata": {},
   "outputs": [
    {
     "name": "stdout",
     "output_type": "stream",
     "text": [
      "[113.50080019 148.69280156 140.40929836 112.58730168 113.76859947\n",
      "  95.72379946 111.90569969  93.32389953 121.05460069 127.10839966\n",
      " 147.97209951 120.58729883 119.23970037  88.22770089  96.16370013\n",
      "  92.84329859 116.65850059  89.1662991  125.47320102 114.81410009\n",
      " 119.56719936 152.69490186 122.78709782 120.11599996 171.3079999\n",
      " 108.21809859 120.40570065  87.21399875  88.01420059  88.82239918\n",
      " 121.3333008  154.44520192 151.16259796 125.97359975 126.60829995\n",
      "  90.90869863 157.16229956 121.56280156 106.76910075 144.40359776\n",
      "  92.59199969 127.65000112 117.55700112 152.78690112 119.50499952\n",
      "  91.2914019   80.01689978 120.31080166 131.92560058 119.08029961\n",
      " 127.37870044 166.02950021 153.23930046  92.58799994 148.65660085\n",
      " 151.64379912 113.27450125 112.8900005   87.2634995  127.69859877\n",
      " 125.27870046 151.98360237 114.47569985 110.60980022 161.31009732\n",
      " 117.20799844 108.48910121 131.96289948 132.52930108 125.67860049\n",
      " 116.96479993 149.51010169 156.18700121 168.9211956  109.93830004\n",
      " 140.73329747 102.08649839 115.2614006  119.64550041 123.50369957\n",
      " 117.98830038  92.20930036 140.84259992 106.8918004  125.34259981\n",
      "  92.45849931 133.15400381 124.99240002 125.35620019 126.03509888\n",
      " 113.44720048 120.58439953 161.13300116  80.69949924 117.89270098\n",
      " 115.43600076 135.05280031 109.60560015 108.95729947 126.31550079\n",
      " 127.65130019 110.3568982  160.00179963 123.05299996 120.9231002\n",
      " 128.24899856 148.26039679  92.52279844 124.73709968 119.08659983\n",
      " 108.78079933 135.17549976 121.14420053  98.07379738 115.90640031\n",
      " 110.1110981  126.22070016 113.7981011  107.0060008  173.92289919\n",
      "  96.5868024  126.30599855 111.85809867 112.58579965 124.93679935\n",
      " 168.02289856 114.58610026 135.16179717 125.68660013 163.79910021\n",
      " 120.4346996   88.53089945 127.85369972 127.76300046 115.30849991\n",
      " 122.84099862 126.04110018 166.15799789 112.31850085 119.96250001\n",
      " 126.30610085 126.90989936 167.608498   160.20650004 170.83270312\n",
      " 121.38150078 121.77550023 164.37960119  98.84639939  79.91609998\n",
      " 115.97730083 113.18660086 118.47300031 113.63220112 120.35960021\n",
      " 119.83590088 104.58349981 170.62090231 144.24089635 167.36139723\n",
      " 117.78700171 125.79340144 126.0285     163.61109921 117.38450075\n",
      " 133.09160333 136.58180016 132.50560179 113.5279003  133.2989008\n",
      " 154.07450141 137.5416982   96.3122009  108.3634014  124.6078001\n",
      " 151.40950052  99.12610007 131.48850134 104.61020005 121.25203635\n",
      " 147.04890044 109.50930163 127.09339945 127.25679856 113.07490113\n",
      " 139.66610306 151.68430026 165.31469903 120.00339987 104.7537018\n",
      " 114.86620033 113.98630066 106.99739974 124.01840062 154.17740283\n",
      " 128.79380036 126.04989992 149.61679737 142.73339975  84.22239874\n",
      " 125.22499934 125.89520021 124.70640204 105.86870041 170.34810244\n",
      " 176.2238973   77.75180062 119.27610104  93.11529988 118.19609986\n",
      " 125.56230125 117.439      123.94490026 151.86839992 151.98570205\n",
      "  91.71590113 131.27629887 108.73749847 110.20399909 109.15319956\n",
      " 168.62889565 128.68419819 103.13239911 123.77119914 111.73399968\n",
      "  90.09979903 146.19089946 121.31150038 119.44503876 104.21399912\n",
      " 125.22430037  94.38780052 121.77380105 116.30210001 134.90289939\n",
      " 124.18257702 170.42670236  83.40999881 167.74199887 124.59750018\n",
      " 109.36690016 126.03969979 123.32499863  83.31779864 124.33179886\n",
      " 113.52030046  90.89359848 113.19640003 112.09970076 170.10020122\n",
      " 107.32839992  91.62729944 119.0720999  109.5898987   90.41610079\n",
      "  75.41860043 161.19830061 114.93510083 141.18190147  96.6382009\n",
      " 120.89699974 151.64259948 160.23600094 113.56400113 116.30980074\n",
      " 154.79580098 118.03739795 151.0339008  175.50469742  87.49990015\n",
      " 112.47829931 153.2100999  108.31839914 158.8872022  114.80650064\n",
      " 137.98349915 121.97510004 115.83049779 114.16920096  85.82059937\n",
      "  75.71809797 132.16399968 120.67700062 118.20390065 111.5837004\n",
      " 154.01610058 153.49450037 122.81929938 140.24890158 152.54040128\n",
      " 106.87840048  92.06749953 122.05270053 155.05940077 161.6148986\n",
      " 156.50450326  90.12739934 134.37950363 152.6767998  108.50609876\n",
      " 152.99250135  85.09880002 116.66660121 119.4500003  127.7372027\n",
      " 151.80940149 117.76440006 127.75030072 114.77130147 103.37659903\n",
      " 114.3419003   95.56740125 167.909898   150.58600159  87.01919797\n",
      " 128.10590039 111.04759823 164.49420148 121.80589924 107.39599963\n",
      " 103.10690003 115.38829976 112.07180083  75.97850033  91.31819855\n",
      " 122.33539946  87.2441986  112.41800085 171.90690095 164.76700178\n",
      "  90.74419878 139.06519886  89.95310143 118.55220046 108.87730142\n",
      " 125.23729842 118.15380108 124.24520004 107.18740117 131.08269828\n",
      " 115.10290016 160.42990016 108.29209924 116.70769991 152.3053001\n",
      " 147.62580071  94.23019992  91.09039841 125.02470028  87.89149918\n",
      " 114.17160094 114.9510012  165.95319751 120.9597009  106.6830987\n",
      " 160.95199823  77.48800023 124.62349878  75.44940014 124.20160016\n",
      " 158.65440124 131.28300179 161.34830108 120.65499997 105.85850004\n",
      " 155.23130317 125.74929922 158.74570052 139.96999913 131.28120036\n",
      " 132.78150299 113.89660076 114.10759897 126.6732994  129.18619877\n",
      " 164.18480107  89.85960102 168.77479951 111.93759917 118.69980134\n",
      " 135.00480074 121.73980228 164.09300094 120.43890145 114.5203006\n",
      " 141.09909923 131.59860188 114.81843838 120.05140034 125.41789884\n",
      " 124.9413994  107.18780046 104.12059964  71.9689015  159.80150202\n",
      " 150.0091015   86.08830033 158.70240076 153.46460376 121.96240093\n",
      " 114.13900121 121.30759998 162.24409769 131.70220118 118.48349965\n",
      " 156.62270058 162.40770294 124.19499935 126.97149915 125.70449983\n",
      " 120.01999938 151.6134005   87.34909896 102.93119952 132.4435021\n",
      " 163.01730214 131.06890094  89.14640011 160.8977008  116.10680038\n",
      "  97.52039776 127.31379953 139.48169985 122.17819974 119.37879934\n",
      " 111.29700036  77.43429935 121.79830093 102.56869853 161.03329846\n",
      " 117.13820045 126.11750054 126.77940002  93.86919969 132.57879811\n",
      " 156.31940081 103.1030999   93.39159973 126.92220063  92.99830114\n",
      " 113.70390035 126.05529873 122.49209913 107.51179874 119.0132012\n",
      " 148.17259832 149.14430186 134.22140116 167.51320105 101.13139928\n",
      " 117.9807009  127.5414011  115.05630125 115.49969954 101.61969868\n",
      " 129.51989919 165.13619858 119.09070235]\n",
      "[110.82, 151.050003, 137.660004, 113.07, 114.629997, 96.18, 110.459999, 95.120003, 121.25, 126.800003, 146.380005, 122.470001, 116.629997, 87.75, 95.989998, 92.730003, 115.690002, 89.18, 124.980003, 115.029999, 120.739998, 151.619995, 122.900002, 120.260002, 171.720001, 109.129997, 119.529999, 87.419998, 88.25, 90.610001, 121.309998, 154.190002, 151.440002, 128.229996, 126.720001, 90.800003, 167.320007, 120.959999, 105.900002, 143.809998, 92.290001, 127.589996, 116.75, 152.149994, 118.970001, 89.519997, 76.199997, 120.139999, 131.660004, 118.989998, 128.199997, 165.800003, 155.669998, 92.059998, 147.630005, 150.75, 114.290001, 111.540001, 87.379997, 127.959999, 124.769997, 151.619995, 113.639999, 110.879997, 161.539993, 119.779999, 107.519997, 129.869995, 131.679993, 125.980003, 115.480003, 150.410004, 155.360001, 168.710007, 110.739998, 141.630005, 102.269997, 113.75, 119.290001, 123.419998, 118.190002, 93.709999, 140.380005, 106.980003, 124.75, 92.059998, 131.919998, 126.410004, 127.459999, 126.339996, 113.32, 119.959999, 161.100006, 80.650002, 118.809998, 116.110001, 134.089996, 110.290001, 108.050003, 125.980003, 126.449997, 110.209999, 161.199997, 123.620003, 121.650002, 129.869995, 147.380005, 92.290001, 124.349998, 120.839996, 107.75, 136.710007, 120.110001, 98.709999, 116.769997, 109.720001, 126.220001, 114.050003, 105.970001, 174.419998, 97.800003, 124.150002, 112.730003, 112.970001, 125.959999, 168.029999, 115.790001, 135.369995, 125.540001, 162.080002, 120.419998, 87.690002, 128.089996, 127.629997, 111.519997, 123.470001, 126.529999, 170.75, 114.209999, 118.230003, 125.790001, 127.480003, 167.179993, 160.539993, 170.990005, 120.779999, 121.330002, 163.5, 98.830002, 79.75, 115.699997, 113.25, 117.459999, 115.540001, 122.379997, 119.730003, 104.099998, 170.839996, 145.929993, 167.899994, 115.519997, 126.339996, 125.860001, 164.289993, 117.510002, 133.940002, 133.479996, 131.809998, 113.779999, 132.490005, 155.240005, 132.869995, 96.230003, 107.839996, 125.82, 139.110001, 97.050003, 129.470001, 99.669998, 120.620003, 135.020004, 109.760002, 128.669998, 127.699997, 114.080002, 139.410004, 152.830002, 166.490005, 119.459999, 105.489998, 118.360001, 114.290001, 106.730003, 124.169998, 153.660004, 128.990005, 128.380005, 149.639999, 139.139999, 78.389999, 125.669998, 126.300003, 124.629997, 105.019997, 172.940002, 177.210007, 75.480003, 120.389999, 93.279999, 117.68, 125.32, 117.029999, 122.879997, 157.199997, 147.179993, 92.239998, 131.639999, 108.410004, 111.730003, 107.949997, 169.610001, 128.320007, 102.279999, 124.910004, 109.879997, 91.330002, 147.830002, 120.93, 120.760002, 102.550003, 126.160004, 95.769997, 120.949997, 117.260002, 133.809998, 125.029999, 169.809998, 82.629997, 167.270004, 127.860001, 110.440002, 127.959999, 122.279999, 85.599998, 122.449997, 112.610001, 89.690002, 114.279999, 113.910004, 166.339996, 109.199997, 92.389999, 118.860001, 110.339996, 91.75, 74.0, 160.210007, 115.849998, 142.300003, 96.360001, 120.989998, 150.289993, 159.729996, 113.779999, 116.029999, 138.720001, 117.730003, 150.029999, 177.080002, 87.25, 110.889999, 153.759995, 107.360001, 159.619995, 110.860001, 135.419998, 122.209999, 115.839996, 115.269997, 85.809998, 75.5, 131.740005, 120.790001, 117.519997, 110.860001, 154.210007, 173.529999, 123.349998, 157.160004, 152.800003, 106.150002, 91.610001, 122.290001, 153.679993, 163.240005, 157.429993, 90.900002, 133.139999, 153.0, 109.980003, 152.380005, 83.870003, 116.720001, 121.480003, 128.839996, 152.429993, 116.730003, 127.440002, 113.489998, 102.690002, 113.849998, 95.730003, 167.639999, 137.029999, 87.419998, 128.710007, 111.860001, 164.440002, 122.919998, 107.309998, 102.459999, 116.580002, 110.489998, 73.449997, 90.959999, 121.559998, 86.949997, 112.25, 171.470001, 165.070007, 91.029999, 137.770004, 89.269997, 118.919998, 108.360001, 124.830002, 117.139999, 123.389999, 107.690002, 129.600006, 113.110001, 159.889999, 108.279999, 115.779999, 156.5, 143.470001, 94.779999, 89.980003, 124.620003, 89.910004, 114.870003, 115.150002, 168.610001, 121.169998, 106.949997, 160.990005, 76.790001, 125.809998, 71.709999, 124.010002, 159.460007, 127.93, 161.080002, 120.050003, 109.739998, 155.990005, 124.529999, 161.449997, 139.259995, 132.210007, 134.25, 115.730003, 115.510002, 126.139999, 129.770004, 166.880005, 88.949997, 168.970001, 109.790001, 118.459999, 137.660004, 121.389999, 162.699997, 120.870003, 115.800003, 142.149994, 130.970001, 113.809998, 118.900002, 122.830002, 124.870003, 108.089996, 104.309998, 73.300003, 161.220001, 155.919998, 84.769997, 148.339996, 153.029999, 121.690002, 114.769997, 122.82, 162.559998, 130.360001, 118.830002, 136.240005, 160.490005, 124.690002, 128.789993, 124.970001, 120.32, 152.020004, 86.309998, 103.559998, 133.25, 163.669998, 131.160004, 89.540001, 161.160004, 117.120003, 97.010002, 128.039993, 138.860001, 122.209999, 118.32, 112.059998, 80.309998, 121.650002, 102.75, 161.360001, 117.980003, 126.010002, 123.870003, 93.449997, 132.070007, 158.830002, 102.040001, 94.220001, 127.489998, 92.790001, 114.32, 123.970001, 123.68, 107.480003, 119.120003, 148.669998, 146.0, 131.570007, 170.770004, 98.360001, 118.769997, 127.650002, 115.059998, 115.779999, 98.900002, 130.559998, 164.860001, 120.589996]\n"
     ]
    }
   ],
   "source": [
    "print(test_data_prediction)"
   ]
  },
  {
   "cell_type": "code",
   "execution_count": 33,
   "id": "8c9e304f",
   "metadata": {},
   "outputs": [
    {
     "name": "stdout",
     "output_type": "stream",
     "text": [
      "[110.82, 151.050003, 137.660004, 113.07, 114.629997, 96.18, 110.459999, 95.120003, 121.25, 126.800003, 146.380005, 122.470001, 116.629997, 87.75, 95.989998, 92.730003, 115.690002, 89.18, 124.980003, 115.029999, 120.739998, 151.619995, 122.900002, 120.260002, 171.720001, 109.129997, 119.529999, 87.419998, 88.25, 90.610001, 121.309998, 154.190002, 151.440002, 128.229996, 126.720001, 90.800003, 167.320007, 120.959999, 105.900002, 143.809998, 92.290001, 127.589996, 116.75, 152.149994, 118.970001, 89.519997, 76.199997, 120.139999, 131.660004, 118.989998, 128.199997, 165.800003, 155.669998, 92.059998, 147.630005, 150.75, 114.290001, 111.540001, 87.379997, 127.959999, 124.769997, 151.619995, 113.639999, 110.879997, 161.539993, 119.779999, 107.519997, 129.869995, 131.679993, 125.980003, 115.480003, 150.410004, 155.360001, 168.710007, 110.739998, 141.630005, 102.269997, 113.75, 119.290001, 123.419998, 118.190002, 93.709999, 140.380005, 106.980003, 124.75, 92.059998, 131.919998, 126.410004, 127.459999, 126.339996, 113.32, 119.959999, 161.100006, 80.650002, 118.809998, 116.110001, 134.089996, 110.290001, 108.050003, 125.980003, 126.449997, 110.209999, 161.199997, 123.620003, 121.650002, 129.869995, 147.380005, 92.290001, 124.349998, 120.839996, 107.75, 136.710007, 120.110001, 98.709999, 116.769997, 109.720001, 126.220001, 114.050003, 105.970001, 174.419998, 97.800003, 124.150002, 112.730003, 112.970001, 125.959999, 168.029999, 115.790001, 135.369995, 125.540001, 162.080002, 120.419998, 87.690002, 128.089996, 127.629997, 111.519997, 123.470001, 126.529999, 170.75, 114.209999, 118.230003, 125.790001, 127.480003, 167.179993, 160.539993, 170.990005, 120.779999, 121.330002, 163.5, 98.830002, 79.75, 115.699997, 113.25, 117.459999, 115.540001, 122.379997, 119.730003, 104.099998, 170.839996, 145.929993, 167.899994, 115.519997, 126.339996, 125.860001, 164.289993, 117.510002, 133.940002, 133.479996, 131.809998, 113.779999, 132.490005, 155.240005, 132.869995, 96.230003, 107.839996, 125.82, 139.110001, 97.050003, 129.470001, 99.669998, 120.620003, 135.020004, 109.760002, 128.669998, 127.699997, 114.080002, 139.410004, 152.830002, 166.490005, 119.459999, 105.489998, 118.360001, 114.290001, 106.730003, 124.169998, 153.660004, 128.990005, 128.380005, 149.639999, 139.139999, 78.389999, 125.669998, 126.300003, 124.629997, 105.019997, 172.940002, 177.210007, 75.480003, 120.389999, 93.279999, 117.68, 125.32, 117.029999, 122.879997, 157.199997, 147.179993, 92.239998, 131.639999, 108.410004, 111.730003, 107.949997, 169.610001, 128.320007, 102.279999, 124.910004, 109.879997, 91.330002, 147.830002, 120.93, 120.760002, 102.550003, 126.160004, 95.769997, 120.949997, 117.260002, 133.809998, 125.029999, 169.809998, 82.629997, 167.270004, 127.860001, 110.440002, 127.959999, 122.279999, 85.599998, 122.449997, 112.610001, 89.690002, 114.279999, 113.910004, 166.339996, 109.199997, 92.389999, 118.860001, 110.339996, 91.75, 74.0, 160.210007, 115.849998, 142.300003, 96.360001, 120.989998, 150.289993, 159.729996, 113.779999, 116.029999, 138.720001, 117.730003, 150.029999, 177.080002, 87.25, 110.889999, 153.759995, 107.360001, 159.619995, 110.860001, 135.419998, 122.209999, 115.839996, 115.269997, 85.809998, 75.5, 131.740005, 120.790001, 117.519997, 110.860001, 154.210007, 173.529999, 123.349998, 157.160004, 152.800003, 106.150002, 91.610001, 122.290001, 153.679993, 163.240005, 157.429993, 90.900002, 133.139999, 153.0, 109.980003, 152.380005, 83.870003, 116.720001, 121.480003, 128.839996, 152.429993, 116.730003, 127.440002, 113.489998, 102.690002, 113.849998, 95.730003, 167.639999, 137.029999, 87.419998, 128.710007, 111.860001, 164.440002, 122.919998, 107.309998, 102.459999, 116.580002, 110.489998, 73.449997, 90.959999, 121.559998, 86.949997, 112.25, 171.470001, 165.070007, 91.029999, 137.770004, 89.269997, 118.919998, 108.360001, 124.830002, 117.139999, 123.389999, 107.690002, 129.600006, 113.110001, 159.889999, 108.279999, 115.779999, 156.5, 143.470001, 94.779999, 89.980003, 124.620003, 89.910004, 114.870003, 115.150002, 168.610001, 121.169998, 106.949997, 160.990005, 76.790001, 125.809998, 71.709999, 124.010002, 159.460007, 127.93, 161.080002, 120.050003, 109.739998, 155.990005, 124.529999, 161.449997, 139.259995, 132.210007, 134.25, 115.730003, 115.510002, 126.139999, 129.770004, 166.880005, 88.949997, 168.970001, 109.790001, 118.459999, 137.660004, 121.389999, 162.699997, 120.870003, 115.800003, 142.149994, 130.970001, 113.809998, 118.900002, 122.830002, 124.870003, 108.089996, 104.309998, 73.300003, 161.220001, 155.919998, 84.769997, 148.339996, 153.029999, 121.690002, 114.769997, 122.82, 162.559998, 130.360001, 118.830002, 136.240005, 160.490005, 124.690002, 128.789993, 124.970001, 120.32, 152.020004, 86.309998, 103.559998, 133.25, 163.669998, 131.160004, 89.540001, 161.160004, 117.120003, 97.010002, 128.039993, 138.860001, 122.209999, 118.32, 112.059998, 80.309998, 121.650002, 102.75, 161.360001, 117.980003, 126.010002, 123.870003, 93.449997, 132.070007, 158.830002, 102.040001, 94.220001, 127.489998, 92.790001, 114.32, 123.970001, 123.68, 107.480003, 119.120003, 148.669998, 146.0, 131.570007, 170.770004, 98.360001, 118.769997, 127.650002, 115.059998, 115.779999, 98.900002, 130.559998, 164.860001, 120.589996]\n"
     ]
    }
   ],
   "source": [
    "print(Y_test)"
   ]
  },
  {
   "cell_type": "code",
   "execution_count": 28,
   "id": "4f31b0f8",
   "metadata": {},
   "outputs": [
    {
     "name": "stdout",
     "output_type": "stream",
     "text": [
      "R2 :  0.9878642696547709\n"
     ]
    }
   ],
   "source": [
    "R2 = metrics.r2_score(Y_test, test_data_prediction)\n",
    "print(\"R2 : \", R2)"
   ]
  },
  {
   "cell_type": "code",
   "execution_count": 29,
   "id": "e4a02a8d",
   "metadata": {},
   "outputs": [],
   "source": [
    "y_test = Y_test\n",
    "Y_test = list(Y_test)"
   ]
  },
  {
   "cell_type": "code",
   "execution_count": 30,
   "id": "ad8d0c2f",
   "metadata": {},
   "outputs": [
    {
     "data": {
      "image/png": "[encoded data removed]",
      "text/plain": [
       "<Figure size 432x288 with 1 Axes>"
      ]
     },
     "metadata": {
      "needs_background": "light"
     },
     "output_type": "display_data"
    }
   ],
   "source": [
    "plt.plot(Y_test, color='blue', label = 'Actual Value')\n",
    "plt.plot(test_data_prediction, color='green', label='Predicted Value')\n",
    "plt.title('Actual Price vs Predicted Price')\n",
    "plt.xlabel('Number of values')\n",
    "plt.ylabel('GLD Price')\n",
    "plt.legend()\n",
    "plt.show()"
   ]
  },
  {
   "cell_type": "code",
   "execution_count": 31,
   "id": "012acd70",
   "metadata": {
    "scrolled": true
   },
   "outputs": [
    {
     "data": {
      "image/png": "[encoded data removed]",
      "text/plain": [
       "<Figure size 432x288 with 1 Axes>"
      ]
     },
     "metadata": {
      "needs_background": "light"
     },
     "output_type": "display_data"
    }
   ],
   "source": [
    "plt.scatter(Y_test, test_data_prediction)\n",
    "plt.xlabel(\"Actual Price\")\n",
    "plt.ylabel(\"Predicted Price\")\n",
    "plt.title(\" Actual Prices vs Predicted Prices\")\n",
    "plt.show()"
   ]
  },
  {
   "cell_type": "code",
   "execution_count": 36,
   "id": "4ef85787",
   "metadata": {},
   "outputs": [
    {
     "data": {
      "text/plain": [
       "20.38269557999996"
      ]
     },
     "execution_count": 36,
     "metadata": {},
     "output_type": "execute_result"
    }
   ],
   "source": [
    "from sklearn.metrics import max_error\n",
    "max_error(y_test, test_data_prediction)"
   ]
  },
  {
   "cell_type": "code",
   "execution_count": 37,
   "id": "150d38bc",
   "metadata": {},
   "outputs": [
    {
     "data": {
      "text/plain": [
       "1.266690589039302"
      ]
     },
     "execution_count": 37,
     "metadata": {},
     "output_type": "execute_result"
    }
   ],
   "source": [
    "from sklearn.metrics import mean_absolute_error\n",
    "mean_absolute_error(y_test, test_data_prediction)"
   ]
  },
  {
   "cell_type": "code",
   "execution_count": 38,
   "id": "f47d7d0b",
   "metadata": {},
   "outputs": [
    {
     "data": {
      "text/plain": [
       "0.9878870070241343"
      ]
     },
     "execution_count": 38,
     "metadata": {},
     "output_type": "execute_result"
    }
   ],
   "source": [
    "from sklearn.metrics import explained_variance_score\n",
    "explained_variance_score(y_test, test_data_prediction)"
   ]
  },
  {
   "cell_type": "code",
   "execution_count": null,
   "id": "91b94048",
   "metadata": {},
   "outputs": [],
   "source": []
  }
 ],
 "metadata": {
  "kernelspec": {
   "display_name": "Python 3 (ipykernel)",
   "language": "python",
   "name": "python3"
  },
  "language_info": {
   "codemirror_mode": {
    "name": "ipython",
    "version": 3
   },
   "file_extension": ".py",
   "mimetype": "text/x-python",
   "name": "python",
   "nbconvert_exporter": "python",
   "pygments_lexer": "ipython3",
   "version": "3.9.7"
  }
 },
 "nbformat": 4,
 "nbformat_minor": 5
}
